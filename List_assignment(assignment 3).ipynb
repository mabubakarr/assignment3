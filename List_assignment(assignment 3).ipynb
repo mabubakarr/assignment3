{
 "cells": [
  {
   "cell_type": "markdown",
   "id": "16abc4cb",
   "metadata": {},
   "source": [
    "# Question 1: Basic List Operations\n",
    "\n",
    "a) Create a list named `fruits` containing the following items: \"apple\", \"banana\", \"orange\", \"grape\", \"kiwi\".\n",
    "\n",
    "b) Add \"pear\" to the end of the list.\n",
    "\n",
    "c) Insert \"mango\" at the second position in the list.\n",
    "\n",
    "d) Remove \"orange\" from the list."
   ]
  },
  {
   "cell_type": "code",
   "execution_count": 2,
   "id": "7053d5ab",
   "metadata": {},
   "outputs": [
    {
     "name": "stdout",
     "output_type": "stream",
     "text": [
      "['apple', 'banana', 'orange', 'grape', 'kiwi', 'pear']\n"
     ]
    }
   ],
   "source": [
    "fruits = [\"apple\", \"banana\", \"orange\", \"grape\", \"kiwi\"]\n",
    "fruits.append(\"pear\")\n",
    "print(fruits)"
   ]
  },
  {
   "cell_type": "code",
   "execution_count": 3,
   "id": "8edb373e",
   "metadata": {},
   "outputs": [
    {
     "name": "stdout",
     "output_type": "stream",
     "text": [
      "['apple', 'mango', 'banana', 'orange', 'grape', 'kiwi', 'pear']\n"
     ]
    }
   ],
   "source": [
    "fruits.insert(1,\"mango\")\n",
    "print(fruits)"
   ]
  },
  {
   "cell_type": "code",
   "execution_count": 4,
   "id": "1ae21010",
   "metadata": {},
   "outputs": [
    {
     "name": "stdout",
     "output_type": "stream",
     "text": [
      "['apple', 'mango', 'banana', 'grape', 'kiwi', 'pear']\n"
     ]
    }
   ],
   "source": [
    "fruits.remove(\"orange\")\n",
    "print(fruits)"
   ]
  },
  {
   "cell_type": "markdown",
   "id": "3a66f6de",
   "metadata": {},
   "source": [
    "# Question 2: Slicing and Indexing\n",
    "\n",
    "a) Create a list named `numbers` containing the integers from 0 to 9.\n",
    "\n",
    "b) Print the element at index 3.\n",
    "\n",
    "c) Print a sublist containing the elements from index 2 to 6 (inclusive).\n",
    "\n",
    "d) Print the last three elements using negative indexing."
   ]
  },
  {
   "cell_type": "code",
   "execution_count": 6,
   "id": "0a363588",
   "metadata": {},
   "outputs": [
    {
     "name": "stdout",
     "output_type": "stream",
     "text": [
      "[0, 1, 2, 3, 4, 5, 6, 7, 8, 9]\n"
     ]
    }
   ],
   "source": [
    "numbers = list(range(0,10))\n",
    "print(numbers)"
   ]
  },
  {
   "cell_type": "code",
   "execution_count": 7,
   "id": "232385b2",
   "metadata": {},
   "outputs": [
    {
     "name": "stdout",
     "output_type": "stream",
     "text": [
      "3\n"
     ]
    }
   ],
   "source": [
    "print(numbers[3])"
   ]
  },
  {
   "cell_type": "code",
   "execution_count": 19,
   "id": "28602bae",
   "metadata": {},
   "outputs": [
    {
     "name": "stdout",
     "output_type": "stream",
     "text": [
      "[2, 3, 4, 5, 6]\n"
     ]
    }
   ],
   "source": [
    "sublist = (numbers[2:7])\n",
    "print(sublist)"
   ]
  },
  {
   "cell_type": "code",
   "execution_count": 22,
   "id": "88acf917",
   "metadata": {},
   "outputs": [
    {
     "name": "stdout",
     "output_type": "stream",
     "text": [
      "[7, 8, 9]\n"
     ]
    }
   ],
   "source": [
    "last_three = numbers[-3:]\n",
    "print(last_three)"
   ]
  },
  {
   "cell_type": "markdown",
   "id": "f4c47f00",
   "metadata": {},
   "source": [
    "# Question 3: List Comprehension\n",
    "\n",
    "a) Create a list named `squares` using a list comprehension that contains the squares of numbers from 1 to 10.\n",
    "\n",
    "b) Create a new list named `even_squares` using a list comprehension that contains the squares of even numbers from the `squares` list."
   ]
  },
  {
   "cell_type": "code",
   "execution_count": 121,
   "id": "5fc933da",
   "metadata": {},
   "outputs": [
    {
     "name": "stdout",
     "output_type": "stream",
     "text": [
      "[1, 2, 3, 4, 5, 6, 7, 8, 9, 10]\n"
     ]
    }
   ],
   "source": [
    "squares = list(range(1,11))\n",
    "print(squares)"
   ]
  },
  {
   "cell_type": "code",
   "execution_count": 1,
   "id": "3f1d664e",
   "metadata": {},
   "outputs": [
    {
     "name": "stdout",
     "output_type": "stream",
     "text": [
      "[1, 4, 9, 16, 25, 36, 49, 64, 81, 100]\n"
     ]
    }
   ],
   "source": [
    "squares = [x**2 for x in range(1,11)]\n",
    "print(squares)"
   ]
  },
  {
   "cell_type": "code",
   "execution_count": 4,
   "id": "e76be708",
   "metadata": {},
   "outputs": [
    {
     "name": "stdout",
     "output_type": "stream",
     "text": [
      "[4, 16, 36, 64, 100]\n"
     ]
    }
   ],
   "source": [
    "even_squares = [x**2 for x in range(1,11) if x % 2 == 0]\n",
    "print(even_squares)"
   ]
  },
  {
   "cell_type": "markdown",
   "id": "f8e3876b",
   "metadata": {},
   "source": [
    "# Question 4: List Manipulation\n",
    "\n",
    "a) Create a list named `colors` containing the following items: \"red\", \"green\", \"blue\", \"yellow\", \"purple\".\n",
    "\n",
    "b) Swap the first and last elements of the list.\n",
    "\n",
    "c) Reverse the order of the list.\n",
    "\n",
    "d) Remove the second and third elements from the list."
   ]
  },
  {
   "cell_type": "code",
   "execution_count": 76,
   "id": "3b196e11",
   "metadata": {},
   "outputs": [
    {
     "name": "stdout",
     "output_type": "stream",
     "text": [
      "['red', 'green', 'blue', 'yellow', 'purple']\n"
     ]
    }
   ],
   "source": [
    "colors = [\"red\", \"green\", \"blue\", \"yellow\", \"purple\"]\n",
    "print(colors)"
   ]
  },
  {
   "cell_type": "code",
   "execution_count": 77,
   "id": "dcee9ea8",
   "metadata": {},
   "outputs": [
    {
     "name": "stdout",
     "output_type": "stream",
     "text": [
      "['purple', 'green', 'blue', 'yellow', 'red']\n"
     ]
    }
   ],
   "source": [
    "colors[0], colors[-1] = colors[-1], colors[0]\n",
    "print(colors)"
   ]
  },
  {
   "cell_type": "code",
   "execution_count": 105,
   "id": "c4f6720f",
   "metadata": {},
   "outputs": [
    {
     "name": "stdout",
     "output_type": "stream",
     "text": [
      "['red', 'yellow', 'blue', 'green', 'purple']\n"
     ]
    }
   ],
   "source": [
    "colors = ['purple', 'green', 'blue', 'yellow', 'red']\n",
    "colors.reverse()\n",
    "print(colors)"
   ]
  },
  {
   "cell_type": "code",
   "execution_count": 106,
   "id": "c18e9ee4",
   "metadata": {},
   "outputs": [
    {
     "name": "stdout",
     "output_type": "stream",
     "text": [
      "['red', 'green', 'purple']\n"
     ]
    }
   ],
   "source": [
    "del colors[1:3]\n",
    "print(colors)"
   ]
  },
  {
   "cell_type": "markdown",
   "id": "2ab15d9b",
   "metadata": {},
   "source": [
    "# Question 5: Advanced Slicing\n",
    "\n",
    "a) Create a list named `letters` containing the letters from 'a' to 'j'.\n",
    "\n",
    "b) Using slicing, create a new list `first_half` containing the first half of the `letters` list.\n",
    "\n",
    "c) Using slicing, create a new list `last_three` containing the last three elements of the `letters` list."
   ]
  },
  {
   "cell_type": "code",
   "execution_count": 108,
   "id": "119d67c1",
   "metadata": {},
   "outputs": [
    {
     "name": "stdout",
     "output_type": "stream",
     "text": [
      "['a', 'b', 'c', 'd', 'e', 'f', 'g', 'h', 'i', 'j']\n"
     ]
    }
   ],
   "source": [
    "letters = [i for i in \"abcdefghij\"]\n",
    "print(letters)"
   ]
  },
  {
   "cell_type": "code",
   "execution_count": 109,
   "id": "45515960",
   "metadata": {},
   "outputs": [
    {
     "name": "stdout",
     "output_type": "stream",
     "text": [
      "['a', 'b', 'c', 'd', 'e']\n"
     ]
    }
   ],
   "source": [
    "first_half = (letters[0:5])\n",
    "print(first_half)"
   ]
  },
  {
   "cell_type": "code",
   "execution_count": 110,
   "id": "3016857a",
   "metadata": {},
   "outputs": [
    {
     "name": "stdout",
     "output_type": "stream",
     "text": [
      "['h', 'i', 'j']\n"
     ]
    }
   ],
   "source": [
    "last_three = (letters[7:10])\n",
    "print(last_three)"
   ]
  },
  {
   "cell_type": "markdown",
   "id": "dfd1527f",
   "metadata": {},
   "source": [
    "# Question 6: Nested Lists\n",
    "\n",
    "a) Create a nested list named `matrix` with the following rows:\n",
    "   - [1, 2, 3]\n",
    "   - [4, 5, 6]\n",
    "   - [7, 8, 9]\n",
    "\n",
    "b) Print the element in the second row and third column.\n",
    "\n",
    "c) Use nested indexing to change the value at the second row and first column to 0."
   ]
  },
  {
   "cell_type": "code",
   "execution_count": 112,
   "id": "3eaf3a19",
   "metadata": {},
   "outputs": [
    {
     "name": "stdout",
     "output_type": "stream",
     "text": [
      "[[1, 2, 3], [4, 5, 6], [7, 8, 9]]\n"
     ]
    }
   ],
   "source": [
    "matrix = [\n",
    "    [1,2,3],\n",
    "    [4,5,6],\n",
    "    [7,8,9]\n",
    "]\n",
    "print(matrix)"
   ]
  },
  {
   "cell_type": "code",
   "execution_count": 113,
   "id": "6d5413e0",
   "metadata": {},
   "outputs": [
    {
     "name": "stdout",
     "output_type": "stream",
     "text": [
      "6\n"
     ]
    }
   ],
   "source": [
    "matrix = matrix[1][2]\n",
    "print(matrix)"
   ]
  },
  {
   "cell_type": "code",
   "execution_count": 119,
   "id": "ccfffd96",
   "metadata": {},
   "outputs": [
    {
     "name": "stdout",
     "output_type": "stream",
     "text": [
      "[[1, 2, 3], [0, 5, 6], [7, 8, 9]]\n"
     ]
    }
   ],
   "source": [
    "matrix = [[1,2,3],[4,5,6],[7,8,9]]\n",
    "matrix[1][0] = 0\n",
    "print(matrix)"
   ]
  },
  {
   "cell_type": "code",
   "execution_count": null,
   "id": "d112879c",
   "metadata": {},
   "outputs": [],
   "source": []
  }
 ],
 "metadata": {
  "kernelspec": {
   "display_name": "Python 3 (ipykernel)",
   "language": "python",
   "name": "python3"
  },
  "language_info": {
   "codemirror_mode": {
    "name": "ipython",
    "version": 3
   },
   "file_extension": ".py",
   "mimetype": "text/x-python",
   "name": "python",
   "nbconvert_exporter": "python",
   "pygments_lexer": "ipython3",
   "version": "3.11.3"
  }
 },
 "nbformat": 4,
 "nbformat_minor": 5
}
